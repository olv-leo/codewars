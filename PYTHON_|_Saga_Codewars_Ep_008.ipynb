{
  "nbformat": 4,
  "nbformat_minor": 0,
  "metadata": {
    "colab": {
      "name": "PYTHON | Saga Codewars Ep.008.ipynb",
      "provenance": [],
      "collapsed_sections": [],
      "include_colab_link": true
    },
    "kernelspec": {
      "name": "python3",
      "display_name": "Python 3"
    },
    "language_info": {
      "name": "python"
    }
  },
  "cells": [
    {
      "cell_type": "markdown",
      "metadata": {
        "id": "view-in-github",
        "colab_type": "text"
      },
      "source": [
        "<a href=\"https://colab.research.google.com/github/olv-leo/codewars/blob/main/PYTHON_%7C_Saga_Codewars_Ep_008.ipynb\" target=\"_parent\"><img src=\"https://colab.research.google.com/assets/colab-badge.svg\" alt=\"Open In Colab\"/></a>"
      ]
    },
    {
      "cell_type": "markdown",
      "metadata": {
        "id": "vzNGfMM9PgI7"
      },
      "source": [
        "#**PYTHON | Saga Codewars Ep.008**\n",
        "\n",
        "Transmitido 21/09/2021\n",
        "\n",
        "Link: https://youtu.be/JYEUisTbob8"
      ]
    },
    {
      "cell_type": "markdown",
      "metadata": {
        "id": "B_9XpNJhiGrK"
      },
      "source": [
        "## **Kata 01: Where my anagrams at?**\n",
        "\n",
        "Link: https://www.codewars.com/kata/523a86aa4230ebb5420001e1/train/python\n"
      ]
    },
    {
      "cell_type": "markdown",
      "metadata": {
        "id": "AeEQfosAQMAD"
      },
      "source": [
        "### Nossa solução"
      ]
    },
    {
      "cell_type": "code",
      "metadata": {
        "id": "tlHVgSzhplae"
      },
      "source": [
        "def anagrams(word, words):\n",
        "    return [palavra for palavra in words if {item: palavra.count(item) for item in set(palavra)} == {item: word.count(item) for item in set(word)}]\n"
      ],
      "execution_count": null,
      "outputs": []
    },
    {
      "cell_type": "markdown",
      "metadata": {
        "id": "_iicvZeOQO-D"
      },
      "source": [
        "### Solução mais interessante"
      ]
    },
    {
      "cell_type": "code",
      "metadata": {
        "id": "juMqtpqXqU61"
      },
      "source": [
        "def anagrams(word, words): return [item for item in words if sorted(item)==sorted(word)]\n"
      ],
      "execution_count": null,
      "outputs": []
    },
    {
      "cell_type": "markdown",
      "metadata": {
        "id": "IB0GS3OV1Aog"
      },
      "source": [
        "## **Kata 02: Integers: Recreation One**\n",
        "\n",
        "Link: https://www.codewars.com/kata/55aa075506463dac6600010d/train/python"
      ]
    },
    {
      "cell_type": "markdown",
      "metadata": {
        "id": "8gk5_d5OQbnG"
      },
      "source": [
        "### Nossa solução"
      ]
    },
    {
      "cell_type": "code",
      "metadata": {
        "id": "EfaVA7o40_5g"
      },
      "source": [
        "def list_squared(m, n):\n",
        "    resp = []\n",
        "    for numero in range (m,n+1):\n",
        "        divisores = []\n",
        "        for i in range(1, numero+1):\n",
        "            if numero%i == 0:\n",
        "                divisores.append(i)\n",
        "\n",
        "        soma_div = 0\n",
        "        for j in divisores:\n",
        "            soma_div += j**2\n",
        "        if (soma_div**0.5 - int(soma_div**0.5)) == 0:\n",
        "            resp.append([numero, soma_div])\n",
        "    return resp"
      ],
      "execution_count": null,
      "outputs": []
    },
    {
      "cell_type": "markdown",
      "metadata": {
        "id": "zv_CiLS0Qdoc"
      },
      "source": [
        "### Solução mais interessante"
      ]
    },
    {
      "cell_type": "code",
      "metadata": {
        "id": "RrIvPsZx_7DE"
      },
      "source": [
        "m = 1\n",
        "n = 150000\n",
        "resp = []\n",
        "\n",
        "for numero in range (m,n+1):\n",
        "    superior = int(numero*0.5)+1\n",
        "    if numero % 2 == 0:\n",
        "        divisores = [i for i in range(1, superior) if numero%i == 0]\n",
        "        divisores.append(numero)\n",
        "\n",
        "        soma_div = 0\n",
        "        for j in divisores:\n",
        "            soma_div += j**2\n",
        "\n",
        "        if (soma_div**0.5 - int(soma_div**0.5)) == 0:\n",
        "            resp.append([numero, soma_div])\n",
        "    else:\n",
        "        divisores = [i for i in range(1, superior ,2) if numero%i == 0]\n",
        "        divisores.append(numero)\n",
        "        soma_div = 0\n",
        "        for j in divisores:\n",
        "            soma_div += j**2\n",
        "\n",
        "        if (soma_div**0.5 - int(soma_div**0.5)) == 0:\n",
        "            resp.append([numero, soma_div])\n",
        "print(resp)"
      ],
      "execution_count": null,
      "outputs": []
    }
  ]
}