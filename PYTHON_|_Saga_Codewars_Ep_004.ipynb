{
  "nbformat": 4,
  "nbformat_minor": 0,
  "metadata": {
    "colab": {
      "name": "PYTHON | Saga Codewars Ep.004.ipynb",
      "provenance": [],
      "collapsed_sections": [],
      "include_colab_link": true
    },
    "kernelspec": {
      "name": "python3",
      "display_name": "Python 3"
    },
    "language_info": {
      "name": "python"
    }
  },
  "cells": [
    {
      "cell_type": "markdown",
      "metadata": {
        "id": "view-in-github",
        "colab_type": "text"
      },
      "source": [
        "<a href=\"https://colab.research.google.com/github/olv-leo/codewars/blob/main/PYTHON_%7C_Saga_Codewars_Ep_004.ipynb\" target=\"_parent\"><img src=\"https://colab.research.google.com/assets/colab-badge.svg\" alt=\"Open In Colab\"/></a>"
      ]
    },
    {
      "cell_type": "markdown",
      "metadata": {
        "id": "23Nm_h4DHyYY"
      },
      "source": [
        "# **PYTHON | Saga Codewars Ep.004**\n",
        "Transmitido 31/08/2021 \n",
        "- Part 01: https://youtu.be/IGpl-YaKKOo\n",
        "- Part 02: https://youtu.be/PtYv-OMJUIA"
      ]
    },
    {
      "cell_type": "markdown",
      "metadata": {
        "id": "GCI2b4eLKhSh"
      },
      "source": [
        "##**Kata 01: String incrementer**\n",
        "\n",
        "Link: https://www.codewars.com/kata/54a91a4883a7de5d7800009c"
      ]
    },
    {
      "cell_type": "code",
      "metadata": {
        "id": "FsfvfRJ2PK9Y"
      },
      "source": [
        "# Nossa solução\n",
        "def increment_string(strng):\n",
        "    resp = ''\n",
        "    cont = 0\n",
        "    if len(strng) != 0:\n",
        "        while cont < len(strng):\n",
        "            if not strng[cont].isnumeric():\n",
        "                resp += strng[cont]\n",
        "                cont += 1\n",
        "                if cont == len(strng):\n",
        "                    break\n",
        "            else:\n",
        "                num = ''\n",
        "                while strng[cont].isnumeric():\n",
        "                    num += strng[cont]\n",
        "                    cont += 1\n",
        "                    if cont == len(strng):\n",
        "                        return f'{strng[:len(strng)-len(num)]}{int(num) + 1:0>{len(num)}}'\n",
        "        return f'{resp}1'          \n",
        "    else:\n",
        "        return '1'"
      ],
      "execution_count": null,
      "outputs": []
    },
    {
      "cell_type": "code",
      "metadata": {
        "id": "5NgFCO8guybH"
      },
      "source": [
        "#Solução do camarada\n",
        "def increment_string(strng):\n",
        "    head = strng.rstrip('0123456789')\n",
        "    tail = strng[len(head):]\n",
        "    if tail == \"\": return strng+\"1\"\n",
        "    return head + str(int(tail) + 1).zfill(len(tail))"
      ],
      "execution_count": null,
      "outputs": []
    },
    {
      "cell_type": "markdown",
      "metadata": {
        "id": "FtFttzyq0eW5"
      },
      "source": [
        "##**Kata 02: Pete, the baker**\n",
        "\n",
        "Link: https://www.codewars.com/kata/525c65e51bf619685c000059/solutions/python"
      ]
    },
    {
      "cell_type": "code",
      "metadata": {
        "id": "7u5Gfz-nz81F"
      },
      "source": [
        "# Nossa solução\n",
        "def cakes(receita, disponivel):\n",
        "    qtd = []\n",
        "    for item in receita:\n",
        "        qtd.append(disponivel.get(item,0)//receita.get(item))\n",
        "    return min(qtd)"
      ],
      "execution_count": null,
      "outputs": []
    },
    {
      "cell_type": "code",
      "metadata": {
        "id": "4neVVs97LAzH"
      },
      "source": [
        "# Solução do amigão\n",
        "def cakes(recipe, available):\n",
        "    return min(available.get(k, 0)/recipe[k] for k in recipe)"
      ],
      "execution_count": null,
      "outputs": []
    }
  ]
}