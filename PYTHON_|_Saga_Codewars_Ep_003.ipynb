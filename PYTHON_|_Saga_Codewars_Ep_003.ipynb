{
  "nbformat": 4,
  "nbformat_minor": 0,
  "metadata": {
    "colab": {
      "name": "PYTHON | Saga Codewars Ep.003.ipynb",
      "provenance": [],
      "collapsed_sections": [],
      "include_colab_link": true
    },
    "kernelspec": {
      "name": "python3",
      "display_name": "Python 3"
    },
    "language_info": {
      "name": "python"
    }
  },
  "cells": [
    {
      "cell_type": "markdown",
      "metadata": {
        "id": "view-in-github",
        "colab_type": "text"
      },
      "source": [
        "<a href=\"https://colab.research.google.com/github/olv-leo/codewars/blob/main/PYTHON_%7C_Saga_Codewars_Ep_003.ipynb\" target=\"_parent\"><img src=\"https://colab.research.google.com/assets/colab-badge.svg\" alt=\"Open In Colab\"/></a>"
      ]
    },
    {
      "cell_type": "markdown",
      "metadata": {
        "id": "Z6MsS9Bcnido"
      },
      "source": [
        "# **PYTHON | Saga Codewars Ep.003**\n",
        "\n",
        "Transmitido dia 26/08/2021 - https://youtu.be/Jz5JlUd7EX4"
      ]
    },
    {
      "cell_type": "markdown",
      "metadata": {
        "id": "dwQI_wldoxEb"
      },
      "source": [
        "\n",
        "**Kata 01: Who likes it?**\n",
        "\n",
        "Link: https://www.codewars.com/kata/5266876b8f4bf2da9b000362/train/python"
      ]
    },
    {
      "cell_type": "code",
      "metadata": {
        "id": "RxyMgBmolxdu"
      },
      "source": [
        "# NOSSA SOLUÇÃO\n",
        "def likes(names):\n",
        "    tamanho = len(names)\n",
        "    if tamanho == 0:\n",
        "        return 'no one likes this'\n",
        "    elif tamanho == 1:\n",
        "        return f'{names[0]} likes this'\n",
        "    elif tamanho == 2:\n",
        "        return f'{names[0]} and {names[1]} like this'\n",
        "    elif tamanho == 3:\n",
        "        return f'{names[0]}, {names[1]} and {names[2]} like this'\n",
        "    else:\n",
        "        return f'{names[0]}, {names[1]} and {tamanho - 2} others like this'\n",
        "    "
      ],
      "execution_count": null,
      "outputs": []
    },
    {
      "cell_type": "code",
      "metadata": {
        "id": "a6cl8oCrtgRp"
      },
      "source": [
        "# SOLUÇÃO DOS CARA\n",
        "def likes(names):\n",
        "    # make a dictionary d of all the possible answers. Keys are the respective number\n",
        "    # of people who liked it.\n",
        "    \n",
        "    # {} indicate placeholders. They do not need any numbers but are simply replaced/formatted\n",
        "    # in the order the arguments in names are given to format\n",
        "    # {others} can be replaced by its name; below the argument \"others = length - 2\"\n",
        "    # is passed to str.format()\n",
        "    d = {\n",
        "        0: \"no one likes this\",\n",
        "        1: \"{} likes this\",\n",
        "        2: \"{} and {} like this\",\n",
        "        3: \"{}, {} and {} like this\",\n",
        "        4: \"{}, {} and {others} others like this\"\n",
        "        }\n",
        "    length = len(names)\n",
        "    # d[min(4, length)] insures that the appropriate string is called from the dictionary\n",
        "    # and subsequently returned. Min is necessary as len(names) may be > 4\n",
        "    \n",
        "    # The * in *names ensures that the list names is blown up and that format is called\n",
        "    # as if each item in names was passed to format individually, i. e.\n",
        "    # format(names[0], names[1], .... , names[n], others = length - 2\n",
        "    return d[min(4, length)].format(*names, others = length - 2)"
      ],
      "execution_count": null,
      "outputs": []
    },
    {
      "cell_type": "markdown",
      "metadata": {
        "id": "YG8N0gHfzKKv"
      },
      "source": [
        "**Kata 02: Simple Pig Latin**\n",
        "\n",
        "Link:https://www.codewars.com/kata/520b9d2ad5c005041100000f/train/python"
      ]
    },
    {
      "cell_type": "code",
      "metadata": {
        "id": "-Fisk2mhvKR3"
      },
      "source": [
        "# NOSSO CÓDIGO\n",
        "def pig_it(text):\n",
        "    final = []\n",
        "    for word in text.split():\n",
        "        final.append(word[1:] + word[0] + 'ay')\n",
        "    return(' '.join(final))"
      ],
      "execution_count": null,
      "outputs": []
    },
    {
      "cell_type": "code",
      "metadata": {
        "id": "bk0T8uAyzOXL"
      },
      "source": [
        "# CÓDIGO TOP\n",
        "def pig_it(text):\n",
        "    lst = text.split()\n",
        "    return ' '.join( [word[1:] + word[:1] + 'ay' if word.isalpha() else word for word in lst])"
      ],
      "execution_count": null,
      "outputs": []
    },
    {
      "cell_type": "markdown",
      "metadata": {
        "id": "9FaZZD856rL6"
      },
      "source": [
        "**Kata 03: The Supermarket Queue**\n",
        "\n",
        "Link: https://www.codewars.com/kata/57b06f90e298a7b53d000a86/train/python\n",
        "\n"
      ]
    },
    {
      "cell_type": "code",
      "metadata": {
        "id": "22RlLRzK6ro5"
      },
      "source": [
        "# NOSSO CÓDIGO\n",
        "def queue_time(customers, n):\n",
        "    if len(customers) == 0:\n",
        "        return 0\n",
        "    \n",
        "    if n > len (customers):\n",
        "        return max(customers)\n",
        "    \n",
        "    fila = []\n",
        "    tempo = 0\n",
        "    contador = n\n",
        "\n",
        "    for i in range(n):\n",
        "        fila.append(customers[i])\n",
        "\n",
        "    while contador<len(customers):\n",
        "        minimo = min(fila)\n",
        "        \n",
        "        for i in range(n):\n",
        "            fila[i] = fila[i]-minimo\n",
        "        tempo += minimo\n",
        "\n",
        "        for i in range(n):\n",
        "            if fila[i] == 0:\n",
        "                fila[i] = customers[contador]\n",
        "                contador+=1\n",
        "    tempo += max(fila)\n",
        "    return tempo"
      ],
      "execution_count": null,
      "outputs": []
    },
    {
      "cell_type": "code",
      "metadata": {
        "id": "QrI9m2hnHEXQ"
      },
      "source": [
        "# CÓDIGO TOP1\n",
        "def queue_time(customers, n):\n",
        "    l=[0]*n\n",
        "    for i in customers:\n",
        "        l[l.index(min(l))]+=i\n",
        "    return max(l)"
      ],
      "execution_count": null,
      "outputs": []
    }
  ]
}