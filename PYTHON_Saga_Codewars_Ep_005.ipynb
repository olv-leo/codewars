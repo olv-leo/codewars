{
  "nbformat": 4,
  "nbformat_minor": 0,
  "metadata": {
    "colab": {
      "name": "PYTHON | Saga Codewars Ep.005.ipynb",
      "provenance": [],
      "collapsed_sections": [],
      "include_colab_link": true
    },
    "kernelspec": {
      "name": "python3",
      "display_name": "Python 3"
    },
    "language_info": {
      "name": "python"
    }
  },
  "cells": [
    {
      "cell_type": "markdown",
      "metadata": {
        "id": "view-in-github",
        "colab_type": "text"
      },
      "source": [
        "<a href=\"https://colab.research.google.com/github/olv-leo/codewars/blob/main/PYTHON_%7C_Saga_Codewars_Ep_005.ipynb\" target=\"_parent\"><img src=\"https://colab.research.google.com/assets/colab-badge.svg\" alt=\"Open In Colab\"/></a>"
      ]
    },
    {
      "cell_type": "markdown",
      "metadata": {
        "id": "ZV5srKEAmO1O"
      },
      "source": [
        "# **PYTHON | Saga Codewars Ep.005**\n",
        "\n",
        "Transmitido 02/09/2021 \n",
        "\n",
        "Link: https://youtu.be/fjon4-6AjjQ\n"
      ]
    },
    {
      "cell_type": "markdown",
      "metadata": {
        "id": "ATE6xOKOrUYe"
      },
      "source": [
        "##**Kata 01: Calculating with Functions**\n",
        "Link: https://www.codewars.com/kata/525f3eda17c7cd9f9e000b39/train/python"
      ]
    },
    {
      "cell_type": "markdown",
      "metadata": {
        "id": "1WioS-y0_HBA"
      },
      "source": [
        "###**NOSSA SOLUÇÃO**"
      ]
    },
    {
      "cell_type": "code",
      "metadata": {
        "id": "HpfFN1Si8JQH"
      },
      "source": [
        "def operacao(n, args):\n",
        "    return {'+': n + args[0][0], '-': n - args[0][0], '*': n * args[0][0]}.get(args[0][1]) if args[0][1] != '/' else n // args[0][0]\n",
        "\n",
        "def zero(*args):\n",
        "    return operacao(0, args) if args else 0\n",
        "\n",
        "def one(*args):\n",
        "    return operacao(1, args) if args else 1\n",
        "\n",
        "def two(*args):\n",
        "    return operacao(2, args) if args else 2\n",
        "\n",
        "def three(*args):\n",
        "    return operacao(3, args) if args else 3\n",
        "\n",
        "def four(*args):\n",
        "    return operacao(4, args) if args else 4\n",
        "\n",
        "def five(*args):\n",
        "    return operacao(5, args) if args else 5\n",
        "\n",
        "def six(*args):\n",
        "    return operacao(6, args) if args else 6\n",
        "\n",
        "def seven(*args):\n",
        "    return operacao(7, args) if args else 7\n",
        "\n",
        "def eight(*args):\n",
        "    return operacao(8, args) if args else 8\n",
        "\n",
        "def nine(*args):\n",
        "    return operacao(9, args) if args else 9\n",
        "\n",
        "\n",
        "def plus(n):\n",
        "    return [n, '+']\n",
        "\n",
        "def minus(n):\n",
        "    return [n, '-']\n",
        "\n",
        "def times(n):\n",
        "    return [n, '*']\n",
        "\n",
        "def divided_by(n):\n",
        "    return [n, '/']\n"
      ],
      "execution_count": null,
      "outputs": []
    },
    {
      "cell_type": "markdown",
      "metadata": {
        "id": "MivbpOUp_ML2"
      },
      "source": [
        "###**SOLUÇÃO MAIS VOTADA**"
      ]
    },
    {
      "cell_type": "code",
      "metadata": {
        "id": "-_fXOTVkmNFj"
      },
      "source": [
        "def zero(f = None): return 0 if not f else f(0)\n",
        "def one(f = None): return 1 if not f else f(1)\n",
        "def two(f = None): return 2 if not f else f(2)\n",
        "def three(f = None): return 3 if not f else f(3)\n",
        "def four(f = None): return 4 if not f else f(4)\n",
        "def five(f = None): return 5 if not f else f(5)\n",
        "def six(f = None): return 6 if not f else f(6)\n",
        "def seven(f = None): return 7 if not f else f(7)\n",
        "def eight(f = None): return 8 if not f else f(8)\n",
        "def nine(f = None): return 9 if not f else f(9)\n",
        "\n",
        "def plus(y): return lambda x: x+y\n",
        "def minus(y): return lambda x: x-y\n",
        "def times(y): return lambda  x: x*y\n",
        "def divided_by(y): return lambda  x: x/y"
      ],
      "execution_count": null,
      "outputs": []
    }
  ]
}
