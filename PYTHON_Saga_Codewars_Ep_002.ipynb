{
  "nbformat": 4,
  "nbformat_minor": 0,
  "metadata": {
    "colab": {
      "name": "PYTHON | Saga Codewars Ep.002.ipynb",
      "provenance": [],
      "collapsed_sections": [],
      "include_colab_link": true
    },
    "kernelspec": {
      "name": "python3",
      "display_name": "Python 3"
    },
    "language_info": {
      "name": "python"
    }
  },
  "cells": [
    {
      "cell_type": "markdown",
      "metadata": {
        "id": "view-in-github",
        "colab_type": "text"
      },
      "source": [
        "<a href=\"https://colab.research.google.com/github/olv-leo/codewars/blob/main/PYTHON_%7C_Saga_Codewars_Ep_002.ipynb\" target=\"_parent\"><img src=\"https://colab.research.google.com/assets/colab-badge.svg\" alt=\"Open In Colab\"/></a>"
      ]
    },
    {
      "cell_type": "markdown",
      "metadata": {
        "id": "I5svBcwLm89-"
      },
      "source": [
        "**PYTHON | Saga Codewars Ep.002**\n",
        "---\n",
        "\n",
        "Transmitido dia 24/08/2021 - https://youtu.be/2jSXuPXfYko"
      ]
    },
    {
      "cell_type": "markdown",
      "metadata": {
        "id": "zxor0kranRSK"
      },
      "source": [
        "**Kata 1: Find the odd int** \n",
        "\n",
        "Link do Kata: https://www.codewars.com/kata/54da5a58ea159efa38000836/train/python"
      ]
    },
    {
      "cell_type": "code",
      "metadata": {
        "id": "6ize53UOnV6P"
      },
      "source": [
        "# NOSSO CÓDIGO\n",
        "def find_it(seq):\n",
        "    for x in set(seq):\n",
        "        if seq.count(x)%2:\n",
        "            return x\n",
        "\n",
        "# CÓDIGO MAIS LEGAL QUE ENCONTRAMOS (NÃO CONSEGUIMOS ENTENDER 100%)\n",
        "import operator\n",
        "\n",
        "def find_it(xs):\n",
        "    return reduce(operator.xor, xs)  # reduce não ficou 100% claro"
      ],
      "execution_count": null,
      "outputs": []
    },
    {
      "cell_type": "markdown",
      "metadata": {
        "id": "0-1AseCAwas2"
      },
      "source": [
        "**Kata 2: RGB To Hex Conversion**\n",
        "\n",
        "Link do Kata: https://www.codewars.com/kata/513e08acc600c94f01000001/python"
      ]
    },
    {
      "cell_type": "code",
      "metadata": {
        "id": "eQoScdpSsOQk"
      },
      "source": [
        "# NOSSA SOLUÇÃO\n",
        "def DectoHex(dec):\n",
        "    hex = ['0','1','2','3','4','5','6','7','8','9',\"A\",\"B\",\"C\",\"D\",\"E\",\"F\"]\n",
        "    r = []\n",
        "    hex1 = ''\n",
        "    if dec == 0:\n",
        "        return '00'\n",
        "    while dec > 0:\n",
        "        r.append(hex[(dec % 16)])\n",
        "        dec = dec // 16\n",
        "    for i in range(len(r)-1,-1,-1):\n",
        "        hex1+=r[i]\n",
        "    return str(hex1)\n",
        "\n",
        "def rgb(r, g, b):\n",
        "    if r<0:\n",
        "        r = 0\n",
        "    if r>255:\n",
        "        r=255\n",
        "        \n",
        "    if g<0:\n",
        "        g = 0\n",
        "    if g>255:\n",
        "        g=255\n",
        "        \n",
        "    if b<0:\n",
        "        b = 0\n",
        "    if b>255:\n",
        "        b=255\n",
        "\n",
        "    return f'{DectoHex(r)}{DectoHex(g)}{DectoHex(b)}'\n",
        "\n",
        "# SOLUÇÃO DO AMIGÃO\n",
        "def limit(num):\n",
        "    if num < 0:\n",
        "        return 0\n",
        "    if num > 255:\n",
        "        return 255\n",
        "    return num\n",
        "\n",
        "\n",
        "def rgb(r, g, b):\n",
        "    # GENIAL COLOCAR ESSE FORMATAÇÃO DE STRING PARA RESOLVER O PROBLEMA.\n",
        "    return \"{:02X}{:02X}{:02X}\".format(limit(r), limit(g), limit(b))"
      ],
      "execution_count": null,
      "outputs": []
    }
  ]
}
