{
  "nbformat": 4,
  "nbformat_minor": 0,
  "metadata": {
    "colab": {
      "name": "PYTHON | Saga Codewars Ep.007",
      "provenance": [],
      "collapsed_sections": [],
      "include_colab_link": true
    },
    "kernelspec": {
      "name": "python3",
      "display_name": "Python 3"
    },
    "language_info": {
      "name": "python"
    }
  },
  "cells": [
    {
      "cell_type": "markdown",
      "metadata": {
        "id": "view-in-github",
        "colab_type": "text"
      },
      "source": [
        "<a href=\"https://colab.research.google.com/github/olv-leo/codewars/blob/main/PYTHON_%7C_Saga_Codewars_Ep_007.ipynb\" target=\"_parent\"><img src=\"https://colab.research.google.com/assets/colab-badge.svg\" alt=\"Open In Colab\"/></a>"
      ]
    },
    {
      "cell_type": "markdown",
      "metadata": {
        "id": "QpvtOynp36gx"
      },
      "source": [
        "#**PYTHON | Saga Codewars Ep.007**\n",
        "\n",
        "Transmitido 19/09/2021 \n",
        "\n",
        "Link: https://youtu.be/q4erLUUAt5M "
      ]
    },
    {
      "cell_type": "markdown",
      "metadata": {
        "id": "KII2Y1BSj_GO"
      },
      "source": [
        "## **Kata 01: Moving Zeros To The End**\n",
        "\n",
        "Link: https://www.codewars.com/kata/52597aa56021e91c93000cb0/train/python"
      ]
    },
    {
      "cell_type": "markdown",
      "metadata": {
        "id": "0j615jmuoiID"
      },
      "source": [
        "###Nossa solução"
      ]
    },
    {
      "cell_type": "code",
      "metadata": {
        "id": "wg6CIuEThEKZ"
      },
      "source": [
        "def move_zeros(array):\n",
        "    return [numero for numero in array if numero != 0] + [0 for numero in range(array.count(0))]"
      ],
      "execution_count": null,
      "outputs": []
    },
    {
      "cell_type": "markdown",
      "metadata": {
        "id": "4-TPI_V2pfko"
      },
      "source": [
        "### Solução mais interessante"
      ]
    },
    {
      "cell_type": "code",
      "metadata": {
        "id": "4II35L1opf2z"
      },
      "source": [
        "def move_zeros(arr):\n",
        "    l = [i for i in arr if isinstance(i, bool) or i!=0]\n",
        "    return l+[0]*(len(arr)-len(l))\n",
        "    "
      ],
      "execution_count": null,
      "outputs": []
    },
    {
      "cell_type": "markdown",
      "metadata": {
        "id": "LyKb4lqrqC1Y"
      },
      "source": [
        "## **Kata 02: Human readable duration format**\n",
        "\n",
        "Link: https://www.codewars.com/kata/52742f58faf5485cae000b9a/train/python"
      ]
    },
    {
      "cell_type": "markdown",
      "metadata": {
        "id": "Csr22abw-D2Z"
      },
      "source": [
        "###Nossa Solução"
      ]
    },
    {
      "cell_type": "code",
      "metadata": {
        "id": "0yJD_Cte-HvL"
      },
      "source": [
        "def format_duration(seconds):\n",
        "\n",
        "    \n",
        "    def tem_s_ou_nao(valor):\n",
        "        if valor > 1:\n",
        "            return 's'\n",
        "        else:\n",
        "            return ''\n",
        "\n",
        "\n",
        "    def mesma_coisa(converte,seg):\n",
        "        num = seg//converte\n",
        "        if num >= 1:\n",
        "            resp.append(num)\n",
        "            seg -= converte*num\n",
        "        else:\n",
        "            resp.append(0)\n",
        "        return seg\n",
        "\n",
        "    if seconds == 0:\n",
        "        return 'now'\n",
        "\n",
        "    conv = {'year':31536000, 'day':86400, 'hour':3600, 'minute':60, 'second':1}\n",
        "    resp = []\n",
        "        \n",
        "    for valor in conv.values():\n",
        "        seconds = mesma_coisa(valor, seconds)\n",
        "        \n",
        "    i = 0\n",
        "    chaves_validas = []\n",
        "    for chave in conv:\n",
        "        if resp[i] > 0:\n",
        "            chaves_validas.append(f'{resp[i]} {chave}{tem_s_ou_nao(resp[i])}')\n",
        "        i += 1\n",
        "\n",
        "    resultado = ''\n",
        "    if len(chaves_validas) == 1:\n",
        "        return chaves_validas[0]\n",
        "    else:\n",
        "        j = 0\n",
        "        while j < len(chaves_validas)-2:\n",
        "            resultado += f'{chaves_validas[j]}, '\n",
        "            j += 1\n",
        "        resultado += f'{chaves_validas[-2]} and {chaves_validas[-1]}'\n",
        "        return resultado"
      ],
      "execution_count": null,
      "outputs": []
    }
  ]
}
