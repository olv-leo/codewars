{
  "nbformat": 4,
  "nbformat_minor": 0,
  "metadata": {
    "colab": {
      "name": "PYTHON | Saga Codewars Ep.008.ipynb",
      "provenance": [],
      "collapsed_sections": [],
      "include_colab_link": true
    },
    "kernelspec": {
      "name": "python3",
      "display_name": "Python 3"
    },
    "language_info": {
      "name": "python"
    }
  },
  "cells": [
    {
      "cell_type": "markdown",
      "metadata": {
        "id": "view-in-github",
        "colab_type": "text"
      },
      "source": [
        "<a href=\"https://colab.research.google.com/github/olv-leo/codewars/blob/main/PYTHON_Saga_Codewars_Ep_008.ipynb\" target=\"_parent\"><img src=\"https://colab.research.google.com/assets/colab-badge.svg\" alt=\"Open In Colab\"/></a>"
      ]
    },
    {
      "cell_type": "markdown",
      "metadata": {
        "id": "vzNGfMM9PgI7"
      },
      "source": [
        "#**PYTHON | Saga Codewars Ep.008**\n",
        "\n",
        "Transmitido 21/09 e 06/10/2021\n",
        "\n",
        "Part1: https://youtu.be/JYEUisTbob8  \n",
        "Part2: https://youtu.be/WVLq3_vqmEo"
      ]
    },
    {
      "cell_type": "markdown",
      "metadata": {
        "id": "B_9XpNJhiGrK"
      },
      "source": [
        "## **Kata 01: Where my anagrams at?**\n",
        "\n",
        "Link: https://www.codewars.com/kata/523a86aa4230ebb5420001e1/train/python\n"
      ]
    },
    {
      "cell_type": "markdown",
      "metadata": {
        "id": "AeEQfosAQMAD"
      },
      "source": [
        "### Nossa solução"
      ]
    },
    {
      "cell_type": "code",
      "metadata": {
        "id": "tlHVgSzhplae"
      },
      "source": [
        "def anagrams(word, words):\n",
        "    return [palavra for palavra in words if {item: palavra.count(item) for item in set(palavra)} == {item: word.count(item) for item in set(word)}]\n"
      ],
      "execution_count": null,
      "outputs": []
    },
    {
      "cell_type": "markdown",
      "metadata": {
        "id": "_iicvZeOQO-D"
      },
      "source": [
        "### Solução mais interessante"
      ]
    },
    {
      "cell_type": "code",
      "metadata": {
        "id": "juMqtpqXqU61"
      },
      "source": [
        "def anagrams(word, words): return [item for item in words if sorted(item)==sorted(word)]\n"
      ],
      "execution_count": null,
      "outputs": []
    },
    {
      "cell_type": "markdown",
      "metadata": {
        "id": "IB0GS3OV1Aog"
      },
      "source": [
        "## **Kata 02: Integers: Recreation One**\n",
        "\n",
        "Link: https://www.codewars.com/kata/55aa075506463dac6600010d/train/python"
      ]
    },
    {
      "cell_type": "markdown",
      "metadata": {
        "id": "8gk5_d5OQbnG"
      },
      "source": [
        "### Nossa solução"
      ]
    },
    {
      "cell_type": "code",
      "metadata": {
        "id": "EfaVA7o40_5g"
      },
      "source": [
        "import math\n",
        "\n",
        "def list_squared(m, n):\n",
        "    resp = []\n",
        "    for num in range(m, n + 1):\n",
        "        divisores = set()\n",
        "        for i in range(1, int(math.sqrt(num))+1):\n",
        "            if num % i == 0:\n",
        "                divisores.add(i*i)\n",
        "                divisores.add(int(num/i)**2)\n",
        "        total = sum(divisores)\n",
        "        rq = math.sqrt(total)\n",
        "        if rq - int(rq) == 0:\n",
        "            resp.append([num, total])\n",
        "    return resp"
      ],
      "execution_count": null,
      "outputs": []
    },
    {
      "cell_type": "markdown",
      "metadata": {
        "id": "zv_CiLS0Qdoc"
      },
      "source": [
        "### Solução aprimorada"
      ]
    },
    {
      "cell_type": "code",
      "metadata": {
        "id": "RrIvPsZx_7DE"
      },
      "source": [
        "def list_squared(m, n):\n",
        "    resp = []\n",
        "    for num in range(m, n + 1):\n",
        "        divisores = set()\n",
        "        for i in range(1, int((num)**(1/2))+1):\n",
        "            if num % i == 0:\n",
        "                divisores.add(i*i)\n",
        "                divisores.add(int(num/i)**2)\n",
        "        total = sum(divisores)\n",
        "        rq = (total)**(1/2)\n",
        "        if rq - int(rq) == 0:\n",
        "            resp.append([num, total])\n",
        "    return resp"
      ],
      "execution_count": 3,
      "outputs": []
    }
  ]
}