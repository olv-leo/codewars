{
  "nbformat": 4,
  "nbformat_minor": 0,
  "metadata": {
    "colab": {
      "name": "PYTHON | Saga Codewars Ep.006.ipynb",
      "provenance": [],
      "collapsed_sections": [],
      "include_colab_link": true
    },
    "kernelspec": {
      "name": "python3",
      "display_name": "Python 3"
    },
    "language_info": {
      "name": "python"
    }
  },
  "cells": [
    {
      "cell_type": "markdown",
      "metadata": {
        "id": "view-in-github",
        "colab_type": "text"
      },
      "source": [
        "<a href=\"https://colab.research.google.com/github/olv-leo/codewars/blob/main/PYTHON_Saga_Codewars_Ep_006.ipynb\" target=\"_parent\"><img src=\"https://colab.research.google.com/assets/colab-badge.svg\" alt=\"Open In Colab\"/></a>"
      ]
    },
    {
      "cell_type": "markdown",
      "metadata": {
        "id": "yLrrUobbt_37"
      },
      "source": [
        "#**PYTHON | Saga Codewars Ep.006**\n",
        "\n",
        "Transmitido 04/09/2021 \n",
        "\n",
        "Link: https://youtu.be/1JdcBbJKcVg"
      ]
    },
    {
      "cell_type": "markdown",
      "metadata": {
        "id": "MZ5XR-8XMNio"
      },
      "source": [
        "## **Kata 01: Permutations**\n",
        "\n",
        "Link: https://www.codewars.com/kata/5254ca2719453dcc0b00027d/train/python"
      ]
    },
    {
      "cell_type": "markdown",
      "metadata": {
        "id": "L833Zmd-KtfX"
      },
      "source": [
        "### Nossa solução"
      ]
    },
    {
      "cell_type": "code",
      "metadata": {
        "id": "6JAr_lk0t69_"
      },
      "source": [
        "import itertools\n",
        "def permutations(string):\n",
        "    nums = list(string)\n",
        "    permutations = list(itertools.permutations(nums))\n",
        "    return list(set([''.join(permutation) for permutation in permutations]))\n",
        "\n"
      ],
      "execution_count": null,
      "outputs": []
    },
    {
      "cell_type": "markdown",
      "metadata": {
        "id": "R7walckPK1SW"
      },
      "source": [
        "### Solução mais interessante"
      ]
    },
    {
      "cell_type": "code",
      "metadata": {
        "id": "gosdazoUwjar"
      },
      "source": [
        "RESPOSTA COM REGRESSÃO:\n",
        "def permutations(string):\n",
        "  if len(string) == 1: return set(string)\n",
        "  first = string[0]\n",
        "  rest = permutations(string[1:])\n",
        "  result = set()\n",
        "  for i in range(0, len(string)):\n",
        "    for p in rest:\n",
        "      result.add(p[0:i] + first + p[i:])\n",
        "  return result"
      ],
      "execution_count": null,
      "outputs": []
    }
  ]
}